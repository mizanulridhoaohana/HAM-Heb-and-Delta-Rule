{
 "cells": [
  {
   "cell_type": "markdown",
   "metadata": {},
   "source": [
    "---\n",
    "## Hebb Rule menggunakan Hetero Associative Memory\n",
    "\n",
    "###### (F1D020050)\n",
    "---"
   ]
  },
  {
   "cell_type": "code",
   "execution_count": 1,
   "metadata": {},
   "outputs": [],
   "source": [
    "# Import library\n",
    "import numpy as np\n",
    "from sklearn.metrics import confusion_matrix\n",
    "from sklearn.metrics import classification_report"
   ]
  },
  {
   "cell_type": "markdown",
   "metadata": {},
   "source": [
    "---\n",
    "### Permasalahan\n",
    "\n",
    "<img src=\"./image/problem.png\" alt=\"image\" width=\"400\" height=\"150\">\n",
    "\n",
    "Buatlah desain HAM menggunkaan Delta rule!\n",
    "\n",
    "---\n",
    "Note:\n",
    "\n",
    "\n",
    "Aturan Hebbian adalah prinsip dasar dalam pembelajaran sinaptik yang menyatakan bahwa koneksi sinaptik antara dua neuron diperkuat ketika keduanya aktif bersamaan. Tidak ada penggunaan \"learning rate\" dalam aturan Hebbian, dan perubahan bobot sinaptik terjadi secara langsung sesuai dengan aktivitas neuron prasesinaptik dan postsinaptik. Ini adalah prinsip dasar yang digunakan untuk mengekspresikan korelasi aktivitas neuron dalam proses pembelajaran, tetapi mungkin tidak cocok untuk tugas pembelajaran yang lebih kompleks yang memerlukan kontrol yang lebih halus atas pembelajaran seperti yang diberikan oleh algoritma berbasis gradien dengan learning rate.\n",
    "\n",
    "---"
   ]
  },
  {
   "cell_type": "code",
   "execution_count": 2,
   "metadata": {},
   "outputs": [],
   "source": [
    "# Input Pattern\n",
    "X = np.array([[-1, -1, -1],\n",
    "              [-1, -1, 1],\n",
    "              [1, 1, -1],\n",
    "              [1, 1, 1]])\n",
    "\n",
    "# Bias\n",
    "B = np.array([1, 1, 1, 1])\n",
    "\n",
    "# Target Pattern\n",
    "T = np.array([[-1, 1],\n",
    "              [-1, 1],\n",
    "              [1, -1],\n",
    "              [1, -1]])\n",
    "\n",
    "# Inisialisasi weight matrix dan bias vektor menggunakan np.zeros()\n",
    "W = np.zeros((X.shape[1], T.shape[1]))\n",
    "bias = np.zeros(T.shape[1])"
   ]
  },
  {
   "cell_type": "markdown",
   "metadata": {},
   "source": [
    "### Bipolar Step Function\n",
    "\n",
    "<img src=\"./image/bipolar.png\" alt=\"image\" width=\"170\" height=\"100\">\n",
    "<img src=\"./image/rumus_bipolar.png\" alt=\"image\" width=\"170\" height=\"100\">\n"
   ]
  },
  {
   "cell_type": "code",
   "execution_count": 3,
   "metadata": {},
   "outputs": [],
   "source": [
    "# Activation function bipolar\n",
    "def bipolar_activation(x, threshold=0):\n",
    "    return np.where(x > threshold, 1, np.where(x == threshold, 0, -1))"
   ]
  },
  {
   "cell_type": "markdown",
   "metadata": {},
   "source": [
    "### Algorithm"
   ]
  },
  {
   "cell_type": "markdown",
   "metadata": {},
   "source": [
    "### Algoritma Delta Rule dan Hetero Associative Memory\n",
    "\n",
    "1) Inisialisasi semua bobot dengan nilai 0\n",
    "2) Untuk setiap data latih 𝑠 dan target 𝑡, lakukan langkah 3–5\n",
    "3) Set nilai aktivasi setiap neuron input:\n",
    "   \n",
    "   $ 𝑥_𝑖 = 𝑠_i $\n",
    "4) Hitung nilai $ y_{in} $ :\n",
    "   \n",
    "   $ y_{j} = t_{j}$\n",
    "5) Update nilai bobot:\n",
    "\n",
    "   $ w'_{ij} = w_{ij} + x_iy_j $"
   ]
  },
  {
   "cell_type": "code",
   "execution_count": 4,
   "metadata": {},
   "outputs": [],
   "source": [
    "# Hebbian learning rule menggunakan bias\n",
    "def hebbian_learning(input_pattern, target_pattern, weight_matrix, bias):\n",
    "    output = np.dot(input_pattern, weight_matrix) + bias\n",
    "    weight_matrix += np.outer(input_pattern, target_pattern)\n",
    "    bias += target_pattern\n",
    "    print(\"Bias update \",bias)"
   ]
  },
  {
   "cell_type": "markdown",
   "metadata": {},
   "source": [
    "### HAM\n",
    "\n",
    "3) Set nilai vektor input ke neuron input\n",
    "4) Karena dalam code ini akan menggunakan HAM, maka nilai y_{in} update akan diubah ke dalam mekanisme berikut:\n",
    "\n",
    "   $ y_{in_j} = sum_{i=1}^{n} (x_iw_{i_j}) $\n",
    "5) Update nilai bobot sesuai Delta Rule\n",
    "6) Gunakan Activation Function dalam hal ini Bipolar"
   ]
  },
  {
   "cell_type": "code",
   "execution_count": 5,
   "metadata": {},
   "outputs": [
    {
     "name": "stdout",
     "output_type": "stream",
     "text": [
      "Bias update  [-1.  1.]\n",
      "Bias update  [-2.  2.]\n",
      "Bias update  [-1.  1.]\n",
      "Bias update  [0. 0.]\n",
      "\n",
      "Bias yang dihasilkan:\n",
      " [0. 0.]\n",
      "\n",
      "Nilai Weight yang dihasilkan:\n",
      " [[ 4. -4.]\n",
      " [ 4. -4.]\n",
      " [ 0.  0.]]\n"
     ]
    }
   ],
   "source": [
    "# Melatih hetero-associative memory menggunakan Hebbian learning\n",
    "for i in range(X.shape[0]):\n",
    "    hebbian_learning(X[i], T[i], W, bias)\n",
    "\n",
    "print(\"\\nBias yang dihasilkan:\\n\",bias)\n",
    "print(\"\\nNilai Weight yang dihasilkan:\\n\",W)\n",
    "\n",
    "# Membuat asosiasi antara input patterns dan target patterns\n",
    "def hetero_associative_memory(input_pattern, weight_matrix, bias):\n",
    "    output = bipolar_activation(np.dot(input_pattern, weight_matrix) + bias)\n",
    "    return output"
   ]
  },
  {
   "cell_type": "markdown",
   "metadata": {},
   "source": [
    "### Testing\n",
    "\n",
    "Acuan:\n",
    "\n",
    "<img src=\"./image/problem.png\" alt=\"image\" width=\"400\" height=\"150\">"
   ]
  },
  {
   "cell_type": "markdown",
   "metadata": {},
   "source": [
    "#### Testing menggunakan 1 data"
   ]
  },
  {
   "cell_type": "code",
   "execution_count": 6,
   "metadata": {},
   "outputs": [
    {
     "name": "stdout",
     "output_type": "stream",
     "text": [
      "Input Pattern: [1, 1, 1]\n",
      "Associated Output Pattern: [ 1 -1]\n"
     ]
    }
   ],
   "source": [
    "# Test hetero-associative memory\n",
    "input_pattern = [1, 1, 1] # Masukkan input pattern yang ingin diuji\n",
    "output_pattern = hetero_associative_memory(input_pattern, W, bias)\n",
    "\n",
    "print(\"Input Pattern:\", input_pattern)\n",
    "print(\"Associated Output Pattern:\", output_pattern)"
   ]
  },
  {
   "cell_type": "markdown",
   "metadata": {},
   "source": [
    "#### Test Menggunakan multiple input scenario"
   ]
  },
  {
   "cell_type": "code",
   "execution_count": 7,
   "metadata": {},
   "outputs": [
    {
     "name": "stdout",
     "output_type": "stream",
     "text": [
      "Input: \n",
      " [[-1 -1 -1]\n",
      " [ 1  1 -1]\n",
      " [-1 -1  1]\n",
      " [ 1  1  1]]\n",
      "\n",
      "Nilai target (hasil seharusnya): \n",
      " [[-1  1]\n",
      " [ 1 -1]\n",
      " [-1  1]\n",
      " [ 1 -1]]\n",
      "\n",
      "\n",
      "======================================================\n",
      "Hasil Prediksi: \n",
      " [[-1  1]\n",
      " [ 1 -1]\n",
      " [-1  1]\n",
      " [ 1 -1]]\n",
      "\n",
      "======================================================\n",
      "Confusion Matrix:\n",
      "[[4 0]\n",
      " [0 4]]\n",
      "\n",
      "Classification Report:\n",
      "              precision    recall  f1-score   support\n",
      "\n",
      "          -1       1.00      1.00      1.00         4\n",
      "           1       1.00      1.00      1.00         4\n",
      "\n",
      "    accuracy                           1.00         8\n",
      "   macro avg       1.00      1.00      1.00         8\n",
      "weighted avg       1.00      1.00      1.00         8\n",
      "\n"
     ]
    }
   ],
   "source": [
    "from sklearn.metrics import confusion_matrix\n",
    "from sklearn.metrics import classification_report\n",
    "\n",
    "# Data sebenarnya (actual)\n",
    "actual_data = np.array([[-1, 1],\n",
    "                        [1, -1],\n",
    "                        [-1, 1],\n",
    "                        [1, -1]])\n",
    "\n",
    "# Bias\n",
    "B = np.array([1, 1, 1, 1])\n",
    "\n",
    "# Vektor input untuk pengujian\n",
    "test_inputs = np.array([[-1, -1, -1],\n",
    "                        [1, 1, -1],\n",
    "                        [-1, -1, 1],\n",
    "                        [1, 1, 1]])\n",
    "\n",
    "from sklearn.metrics import confusion_matrix, classification_report\n",
    "import numpy as np\n",
    "\n",
    "print(\"Input: \\n\", test_inputs)\n",
    "print(\"\\nNilai target (hasil seharusnya): \\n\", actual_data)\n",
    "\n",
    "# Fungsi untuk melakukan pengujian\n",
    "def perform_testing(test_inputs, actual_data, weight_matrix, bias, threshold=0):\n",
    "    predicted_data = []\n",
    "    \n",
    "    for input_pattern in test_inputs:\n",
    "        # Menggunakan Hebbian learning untuk menghitung output\n",
    "        net_output = np.dot(input_pattern, weight_matrix) \n",
    "        output = bipolar_activation(net_output, threshold)\n",
    "        predicted_data.append(output)\n",
    "    \n",
    "    # Konversi hasil prediksi ke dalam bentuk numpy array\n",
    "    predicted_data = np.array(predicted_data)\n",
    "    \n",
    "    # Menghitung confusion matrix\n",
    "    conf_matrix = confusion_matrix(actual_data.ravel(), predicted_data.ravel())\n",
    "    \n",
    "    # Membuat classification report\n",
    "    class_report = classification_report(actual_data.ravel(), predicted_data.ravel())\n",
    "    \n",
    "    return conf_matrix, class_report, predicted_data\n",
    "\n",
    "# Lakukan pengujian\n",
    "confusion_matrix_result, classification_report_result, predicted_data = perform_testing(test_inputs, actual_data, W, B)\n",
    "\n",
    "# Output Prediksi\n",
    "print(\"\\n\\n======================================================\\nHasil Prediksi: \\n\", predicted_data)\n",
    "\n",
    "# Tampilkan hasil confusion matrix\n",
    "print(\"\\n======================================================\\nConfusion Matrix:\")\n",
    "print(confusion_matrix_result)\n",
    "\n",
    "# Tampilkan hasil classification report\n",
    "print(\"\\nClassification Report:\")\n",
    "print(classification_report_result)"
   ]
  },
  {
   "cell_type": "code",
   "execution_count": 8,
   "metadata": {},
   "outputs": [
    {
     "name": "stdout",
     "output_type": "stream",
     "text": [
      "Mean Squared Error (MSE): 0.0\n"
     ]
    }
   ],
   "source": [
    "mse = np.mean((predicted_data - actual_data) ** 2)\n",
    "\n",
    "print(\"Mean Squared Error (MSE):\", mse)"
   ]
  }
 ],
 "metadata": {
  "kernelspec": {
   "display_name": ".venv",
   "language": "python",
   "name": "python3"
  },
  "language_info": {
   "codemirror_mode": {
    "name": "ipython",
    "version": 3
   },
   "file_extension": ".py",
   "mimetype": "text/x-python",
   "name": "python",
   "nbconvert_exporter": "python",
   "pygments_lexer": "ipython3",
   "version": "3.10.12"
  }
 },
 "nbformat": 4,
 "nbformat_minor": 2
}
