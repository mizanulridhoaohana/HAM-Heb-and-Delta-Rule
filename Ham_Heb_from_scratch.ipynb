{
 "cells": [
  {
   "cell_type": "markdown",
   "metadata": {},
   "source": [
    "### Without Bias"
   ]
  },
  {
   "cell_type": "code",
   "execution_count": 1,
   "metadata": {},
   "outputs": [
    {
     "name": "stdout",
     "output_type": "stream",
     "text": [
      "[[ 4. -4.]\n",
      " [ 4. -4.]\n",
      " [ 0.  0.]]\n",
      "[1, -1]\n"
     ]
    }
   ],
   "source": [
    "import numpy as np\n",
    "\n",
    "def bipolar_step(y, th=0):\n",
    "    return [1 if i > th else 0 if i == th else -1 for i in y]\n",
    "\n",
    "def hebb_assoc_train(s, t):\n",
    "    w = np.zeros((len(s[0]), len(t[0])))\n",
    "    for r, row in enumerate(s):\n",
    "        for c, col in enumerate(row):\n",
    "            w[c] = [w[c, i] + col * t[r, i] for i in range(len(t[r]))]\n",
    "    return w\n",
    "\n",
    "def hebb_assoc_test(x, w):\n",
    "    y = [np.dot(x, w[:, i]) for i in range(len(w[0]))]\n",
    "    return bipolar_step(y)\n",
    "\n",
    "s = [[-1, -1, -1],\n",
    "    [-1, -1, 1],\n",
    "    [1, 1, -1],\n",
    "    [1, 1, 1]]\n",
    "\n",
    "b = ([1],\n",
    "     [1],\n",
    "     [1],\n",
    "     [1])\n",
    "\n",
    "t = np.array([[-1, 1],\n",
    "              [-1, 1],\n",
    "              [1, -1],\n",
    "              [1, -1]])\n",
    "w = hebb_assoc_train(s, t)\n",
    "y = hebb_assoc_test([1, 1, -1], w)\n",
    "print(w)\n",
    "print(y)"
   ]
  },
  {
   "cell_type": "markdown",
   "metadata": {},
   "source": [
    "### Menggunakan Bias"
   ]
  },
  {
   "cell_type": "code",
   "execution_count": 2,
   "metadata": {},
   "outputs": [
    {
     "name": "stdout",
     "output_type": "stream",
     "text": [
      "Weight Matrix (w):\n",
      "[[ 4. -4.]\n",
      " [ 4. -4.]\n",
      " [ 0.  0.]]\n",
      "Updated Bias (b):\n",
      "[[0 2]\n",
      " [0 2]\n",
      " [2 0]\n",
      " [2 0]]\n",
      "Output (y):\n",
      "[[ 1  1]\n",
      " [-1 -1]]\n"
     ]
    }
   ],
   "source": [
    "import numpy as np\n",
    "\n",
    "def bipolar_step(y, th=0):\n",
    "    return np.where(y > th, 1, np.where(y == th, 0, -1))\n",
    "\n",
    "def hebb_assoc_train(s, t, b):\n",
    "    w = np.zeros((len(s[0]), len(t[0])))\n",
    "    for r, row in enumerate(s):\n",
    "        for c, col in enumerate(row):\n",
    "            w[c] = [w[c, i] + col * t[r, i] for i in range(len(t[r]))]\n",
    "        b[r] = [b[r, i] + t[r, i] for i in range(len(t[r]))]\n",
    "    return w, b\n",
    "\n",
    "def hebb_assoc_test(x, w, b):\n",
    "    y = [np.dot(x, w[:, i]) + b[i] for i in range(len(w[0]))]\n",
    "    return bipolar_step(np.array(y))\n",
    "\n",
    "s = [[-1, -1, -1],\n",
    "    [-1, -1, 1],\n",
    "    [1, 1, -1],\n",
    "    [1, 1, 1]]\n",
    "\n",
    "bias = np.array([[1, 1],\n",
    "                 [1, 1],\n",
    "                 [1, 1],\n",
    "                 [1, 1]])\n",
    "\n",
    "t = np.array([[-1, 1],\n",
    "              [-1, 1],\n",
    "              [1, -1],\n",
    "              [1, -1]])\n",
    "\n",
    "w, bias = hebb_assoc_train(s, t, bias)\n",
    "x_test = [1, 1, -1]\n",
    "y = hebb_assoc_test(x_test, w, bias)\n",
    "print(\"Weight Matrix (w):\")\n",
    "print(w)\n",
    "print(\"Updated Bias (b):\")\n",
    "print(bias)\n",
    "print(\"Output (y):\")\n",
    "print(y)\n"
   ]
  },
  {
   "cell_type": "code",
   "execution_count": null,
   "metadata": {},
   "outputs": [],
   "source": []
  },
  {
   "cell_type": "code",
   "execution_count": null,
   "metadata": {},
   "outputs": [],
   "source": []
  }
 ],
 "metadata": {
  "kernelspec": {
   "display_name": ".venv",
   "language": "python",
   "name": "python3"
  },
  "language_info": {
   "codemirror_mode": {
    "name": "ipython",
    "version": 3
   },
   "file_extension": ".py",
   "mimetype": "text/x-python",
   "name": "python",
   "nbconvert_exporter": "python",
   "pygments_lexer": "ipython3",
   "version": "3.10.12"
  }
 },
 "nbformat": 4,
 "nbformat_minor": 2
}
