{
 "cells": [
  {
   "cell_type": "code",
   "execution_count": 1,
   "metadata": {},
   "outputs": [],
   "source": [
    "# Import library\n",
    "import numpy as np"
   ]
  },
  {
   "cell_type": "code",
   "execution_count": 2,
   "metadata": {},
   "outputs": [],
   "source": [
    "# Data input X dan target t\n",
    "X = np.array([[-1, -1, -1, 1],\n",
    "              [-1, -1, 1, 1],\n",
    "              [1, 1, -1, 1],\n",
    "              [1, 1, 1, 1]])\n",
    "\n",
    "t = np.array([[-1, 1],\n",
    "              [-1, 1],\n",
    "              [1, -1],\n",
    "              [1, -1]])"
   ]
  },
  {
   "cell_type": "code",
   "execution_count": 3,
   "metadata": {},
   "outputs": [],
   "source": [
    "# Inisialisasi Weight Matrix W\n",
    "W = np.random.rand(X.shape[1], t.shape[1])\n",
    "\n",
    "# Learning rate (tingkat pembelajaran)\n",
    "learning_rate = 0.1\n",
    "\n",
    "# Jumlah iterasi pembelajaran\n",
    "num_iterations = 10"
   ]
  },
  {
   "cell_type": "markdown",
   "metadata": {},
   "source": [
    "### Bipolar Step Function\n",
    "\n",
    "<img src=\"./image/bipolar.png\" alt=\"image\" width=\"170\" height=\"100\">\n",
    "<img src=\"./image/rumus_bipolar.png\" alt=\"image\" width=\"170\" height=\"100\">\n"
   ]
  },
  {
   "cell_type": "code",
   "execution_count": 4,
   "metadata": {},
   "outputs": [],
   "source": [
    "# Activation function bipolar\n",
    "def bipolar_activation(x, threshold=0):\n",
    "    return 1 if x > threshold else -1"
   ]
  },
  {
   "cell_type": "code",
   "execution_count": 5,
   "metadata": {},
   "outputs": [],
   "source": [
    "# Fungsi untuk mengambil output berdasarkan input dengan aktivasi bipolar\n",
    "def ham_bipolar(input_vector, weight_matrix):\n",
    "    output = np.dot(input_vector, weight_matrix)\n",
    "    return np.array([bipolar_activation(x) for x in output])"
   ]
  },
  {
   "cell_type": "markdown",
   "metadata": {},
   "source": [
    "### Algoritma Delta Rule dan Hetero Associative Memory\n",
    "\n",
    "1) Inisialisasi semua bobot dengan nilai 0\n",
    "2) Untuk setiap data latih 𝑠 dan target 𝑡, lakukan langkah 3–5\n",
    "3) Set nilai aktivasi setiap neuron input:\n",
    "   \n",
    "   $ 𝑥_𝑖 = 𝑠_i $\n",
    "4) Hitung nilai $ y_{in} $ :\n",
    "   \n",
    "   $ y_{in} = sum_{i=1}^{n} (x_iw_i) $\n",
    "5) Update nilai bobot:\n",
    "\n",
    "   $  \\Delta w_i = a(t-y_{in}) *xi $\n",
    "\n",
    "   $ w_i(new) = w_i + \\Delta w_i $\n",
    "\n",
    "### HAM\n",
    "\n",
    "3) Set nilai vektor input ke neuron input\n",
    "4) Karena dalam code ini akan menggunakan HAM, maka nilai y_{in} update akan diubah ke dalam mekanisme berikut:\n",
    "\n",
    "   $ y_{in_j} = sum_{i=1}^{n} (x_iw_{i_j}) $"
   ]
  },
  {
   "cell_type": "code",
   "execution_count": 6,
   "metadata": {},
   "outputs": [
    {
     "name": "stdout",
     "output_type": "stream",
     "text": [
      "[0.64654936 0.95225492]\n",
      "[-1.28861868  0.34501257]\n",
      "[-0.18352527 -1.89222519]\n",
      "[-1.56564478 -1.80912304]\n",
      "[0.3325244  0.14052583]\n",
      "[-0.87638114 -0.19954266]\n",
      "[ 0.02773756 -0.81341904]\n",
      "[-0.8784295  -0.89468485]\n",
      "[ 0.19910497 -0.05471294]\n",
      "[-0.56010217 -0.27146682]\n",
      "[ 0.08030801 -0.36340781]\n",
      "[-0.50329831 -0.47507194]\n",
      "[ 0.13082375 -0.07354879]\n",
      "[-0.34616445 -0.22085189]\n",
      "[ 0.07961158 -0.16720068]\n",
      "[-0.29173655 -0.26631278]\n",
      "[ 0.08937983 -0.05322145]\n",
      "[-0.20965232 -0.15530698]\n",
      "[ 0.06418379 -0.07811925]\n",
      "[-0.17000272 -0.15480811]\n",
      "[ 0.06155782 -0.0318331 ]\n",
      "[-0.1252662  -0.10244142]\n",
      "[ 0.04745758 -0.03639821]\n",
      "[-0.09918159 -0.09197184]\n",
      "[ 0.04215161 -0.01700594]\n",
      "[-0.07409853 -0.0653433 ]\n",
      "[ 0.03349116 -0.01651322]\n",
      "[-0.05777686 -0.05528165]\n",
      "[ 0.0285553  -0.00819124]\n",
      "[-0.04347194 -0.04087038]\n",
      "[ 0.02295568 -0.00702568]\n",
      "[-0.03354619 -0.0334021 ]\n",
      "[ 0.01911833 -0.00342109]\n",
      "[-0.0253157  -0.02524315]\n",
      "[ 0.01541951 -0.00258361]\n",
      "[-0.01938795 -0.02020876]\n",
      "[ 0.01265655 -0.00104577]\n",
      "[-0.01463683 -0.01545346]\n",
      "[ 0.01020193 -0.00059911]\n",
      "[-0.01114185 -0.01221459]\n"
     ]
    }
   ],
   "source": [
    "# Training menggunakan Delta Rule dengan aktivasi bipolar\n",
    "for _ in range(num_iterations):\n",
    "    for i in range(X.shape[0]):\n",
    "        input_vector = X[i]\n",
    "        target = t[i]\n",
    "\n",
    "        # Hitung output\n",
    "        y_in = np.dot(input_vector, W)\n",
    "\n",
    "        # Hitung selisih (error)\n",
    "        error = target - y_in\n",
    "        # error = np.mean((target - y_in) ** 2)\n",
    "\n",
    "        # Perbarui bobot dengan Delta Rule\n",
    "        delta_W = learning_rate * np.outer(input_vector, error)\n",
    "        W += delta_W\n",
    "\n",
    "        print(error)\n"
   ]
  },
  {
   "cell_type": "code",
   "execution_count": 7,
   "metadata": {},
   "outputs": [
    {
     "name": "stdout",
     "output_type": "stream",
     "text": [
      "Input Vector: [1 1 1 1]\n",
      "Output: [ 1 -1]\n"
     ]
    }
   ],
   "source": [
    "# Uji dengan data input tertentu\n",
    "input_vector = np.array([1, 1, 1, 1])\n",
    "output = ham_bipolar(input_vector, W)\n",
    "\n",
    "print(\"Input Vector:\", input_vector)\n",
    "print(\"Output:\", output)"
   ]
  },
  {
   "cell_type": "code",
   "execution_count": 8,
   "metadata": {},
   "outputs": [
    {
     "name": "stdout",
     "output_type": "stream",
     "text": [
      "Confusion Matrix:\n",
      "[[4 0]\n",
      " [0 4]]\n"
     ]
    }
   ],
   "source": [
    "from sklearn.metrics import confusion_matrix\n",
    "\n",
    "# Data sebenarnya (actual)\n",
    "actual_data = t\n",
    "\n",
    "# Data prediksi\n",
    "predicted_data = np.array([ham_bipolar(input_vector, W) for input_vector in X])\n",
    "\n",
    "# Menghitung confusion matrix dengan scikit-learn\n",
    "confusion_matrix_result = confusion_matrix(actual_data.flatten(), predicted_data.flatten())\n",
    "\n",
    "print(\"Confusion Matrix:\")\n",
    "print(confusion_matrix_result)"
   ]
  },
  {
   "cell_type": "code",
   "execution_count": 9,
   "metadata": {},
   "outputs": [
    {
     "name": "stdout",
     "output_type": "stream",
     "text": [
      "Mean Squared Error (MSE): 0.0\n"
     ]
    }
   ],
   "source": [
    "mse = np.mean((predicted_data - actual_data) ** 2)\n",
    "\n",
    "print(\"Mean Squared Error (MSE):\", mse)"
   ]
  },
  {
   "cell_type": "code",
   "execution_count": null,
   "metadata": {},
   "outputs": [],
   "source": []
  }
 ],
 "metadata": {
  "kernelspec": {
   "display_name": ".venv",
   "language": "python",
   "name": "python3"
  },
  "language_info": {
   "codemirror_mode": {
    "name": "ipython",
    "version": 3
   },
   "file_extension": ".py",
   "mimetype": "text/x-python",
   "name": "python",
   "nbconvert_exporter": "python",
   "pygments_lexer": "ipython3",
   "version": "3.10.12"
  }
 },
 "nbformat": 4,
 "nbformat_minor": 2
}
