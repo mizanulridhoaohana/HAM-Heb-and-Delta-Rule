{
 "cells": [
  {
   "cell_type": "code",
   "execution_count": null,
   "metadata": {},
   "outputs": [],
   "source": [
    "import numpy as np\n",
    "\n",
    "# Data input X dan target t\n",
    "X = np.array([[-1, -1, -1, 1],\n",
    "              [-1, -1, 1, 1],\n",
    "              [1, 1, -1, 1],\n",
    "              [1, 1, 1, 1]])\n",
    "\n",
    "t = np.array([[-1, 1],\n",
    "              [-1, 1],\n",
    "              [1, -1],\n",
    "              [1, -1])\n",
    "\n",
    "# Inisialisasi Weight Matrix W\n",
    "W = np.random.rand(X.shape[1], t.shape[1])\n",
    "\n",
    "# Learning rate (tingkat pembelajaran)\n",
    "learning_rate = 0.1\n",
    "\n",
    "# Jumlah iterasi pembelajaran\n",
    "num_iterations = 1000\n",
    "\n",
    "# Training menggunakan Delta Rule\n",
    "for _ in range(num_iterations):\n",
    "    for i in range(X.shape[0]):\n",
    "        input_vector = X[i]\n",
    "        target = t[i]\n",
    "\n",
    "        # Hitung output\n",
    "        output = np.dot(input_vector, W)\n",
    "\n",
    "        # Hitung selisih (error)\n",
    "        error = target - output\n",
    "\n",
    "        # Perbarui bobot dengan Delta Rule\n",
    "        delta_W = learning_rate * np.outer(input_vector, error)\n",
    "        W += delta_W\n",
    "\n",
    "# Fungsi untuk mengambil output berdasarkan input\n",
    "def ham(input_vector, weight_matrix):\n",
    "    return np.dot(input_vector, weight_matrix)\n",
    "\n",
    "# Uji dengan data input tertentu\n",
    "input_vector = np.array([-1, -1, 1, 1])\n",
    "output = ham(input_vector, W)\n",
    "\n",
    "print(\"Input Vector:\", input_vector)\n",
    "print(\"Output:\", output)\n"
   ]
  },
  {
   "cell_type": "code",
   "execution_count": null,
   "metadata": {},
   "outputs": [],
   "source": []
  }
 ],
 "metadata": {
  "language_info": {
   "name": "python"
  }
 },
 "nbformat": 4,
 "nbformat_minor": 2
}
